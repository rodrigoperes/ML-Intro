{
 "cells": [
  {
   "cell_type": "markdown",
   "metadata": {},
   "source": [
    "# Exercício de Regressão Logística: Corrigindo e melhorando o modelo de fornecedores"
   ]
  },
  {
   "cell_type": "markdown",
   "metadata": {},
   "source": [
    "Vamos carregar novamente dados de fornecedores.csv"
   ]
  },
  {
   "cell_type": "code",
   "execution_count": 1,
   "metadata": {
    "collapsed": false
   },
   "outputs": [
    {
     "data": {
      "text/plain": [
       "Index(['fornecedor_punido', 'qtd_media', 'Socio Laranja',\n",
       "       'Valor Total Homologado em 2017', 'Micro Empresa', 'Não Informado',\n",
       "       'Pequena Empresa', 'qtd_subclasses_cnae', 'Qtd dias inferior a 30',\n",
       "       'qtd_fornecedores', 'socio_com_ceis', 'VALIDO', 'prob_loja'],\n",
       "      dtype='object')"
      ]
     },
     "execution_count": 1,
     "metadata": {},
     "output_type": "execute_result"
    }
   ],
   "source": [
    "import pandas as pd\n",
    "\n",
    "fornecedores_file_path = 'fornecedores.csv'\n",
    "fornecedores_data = pd.read_csv(fornecedores_file_path).iloc[:,1:] # Retira a primeira coluna (índice)\n",
    "fornecedores_data.columns"
   ]
  },
  {
   "cell_type": "code",
   "execution_count": 2,
   "metadata": {
    "collapsed": false
   },
   "outputs": [
    {
     "data": {
      "text/html": [
       "<div>\n",
       "<style scoped>\n",
       "    .dataframe tbody tr th:only-of-type {\n",
       "        vertical-align: middle;\n",
       "    }\n",
       "\n",
       "    .dataframe tbody tr th {\n",
       "        vertical-align: top;\n",
       "    }\n",
       "\n",
       "    .dataframe thead th {\n",
       "        text-align: right;\n",
       "    }\n",
       "</style>\n",
       "<table border=\"1\" class=\"dataframe\">\n",
       "  <thead>\n",
       "    <tr style=\"text-align: right;\">\n",
       "      <th></th>\n",
       "      <th>fornecedor_punido</th>\n",
       "      <th>qtd_media</th>\n",
       "      <th>Socio Laranja</th>\n",
       "      <th>Valor Total Homologado em 2017</th>\n",
       "      <th>Micro Empresa</th>\n",
       "      <th>Não Informado</th>\n",
       "      <th>Pequena Empresa</th>\n",
       "      <th>qtd_subclasses_cnae</th>\n",
       "      <th>Qtd dias inferior a 30</th>\n",
       "      <th>qtd_fornecedores</th>\n",
       "      <th>socio_com_ceis</th>\n",
       "      <th>VALIDO</th>\n",
       "      <th>prob_loja</th>\n",
       "    </tr>\n",
       "  </thead>\n",
       "  <tbody>\n",
       "    <tr>\n",
       "      <th>0</th>\n",
       "      <td>False</td>\n",
       "      <td>96.0</td>\n",
       "      <td>0.0</td>\n",
       "      <td>100000.0</td>\n",
       "      <td>0</td>\n",
       "      <td>0</td>\n",
       "      <td>0</td>\n",
       "      <td>5.0</td>\n",
       "      <td>0.0</td>\n",
       "      <td>1.0</td>\n",
       "      <td>0.0</td>\n",
       "      <td>2.0</td>\n",
       "      <td>0.999985</td>\n",
       "    </tr>\n",
       "    <tr>\n",
       "      <th>1</th>\n",
       "      <td>False</td>\n",
       "      <td>34.0</td>\n",
       "      <td>0.0</td>\n",
       "      <td>100000.0</td>\n",
       "      <td>0</td>\n",
       "      <td>0</td>\n",
       "      <td>0</td>\n",
       "      <td>5.0</td>\n",
       "      <td>0.0</td>\n",
       "      <td>1.0</td>\n",
       "      <td>0.0</td>\n",
       "      <td>7.0</td>\n",
       "      <td>0.999988</td>\n",
       "    </tr>\n",
       "    <tr>\n",
       "      <th>2</th>\n",
       "      <td>False</td>\n",
       "      <td>28.0</td>\n",
       "      <td>0.0</td>\n",
       "      <td>100000.0</td>\n",
       "      <td>0</td>\n",
       "      <td>0</td>\n",
       "      <td>0</td>\n",
       "      <td>5.0</td>\n",
       "      <td>0.0</td>\n",
       "      <td>1.0</td>\n",
       "      <td>0.0</td>\n",
       "      <td>1.0</td>\n",
       "      <td>0.998830</td>\n",
       "    </tr>\n",
       "    <tr>\n",
       "      <th>3</th>\n",
       "      <td>False</td>\n",
       "      <td>23.0</td>\n",
       "      <td>0.0</td>\n",
       "      <td>100000.0</td>\n",
       "      <td>0</td>\n",
       "      <td>0</td>\n",
       "      <td>0</td>\n",
       "      <td>5.0</td>\n",
       "      <td>0.0</td>\n",
       "      <td>1.0</td>\n",
       "      <td>0.0</td>\n",
       "      <td>1.0</td>\n",
       "      <td>0.773772</td>\n",
       "    </tr>\n",
       "    <tr>\n",
       "      <th>4</th>\n",
       "      <td>False</td>\n",
       "      <td>25.0</td>\n",
       "      <td>0.0</td>\n",
       "      <td>76100.0</td>\n",
       "      <td>0</td>\n",
       "      <td>1</td>\n",
       "      <td>0</td>\n",
       "      <td>5.0</td>\n",
       "      <td>0.0</td>\n",
       "      <td>1.0</td>\n",
       "      <td>0.0</td>\n",
       "      <td>3.0</td>\n",
       "      <td>0.999959</td>\n",
       "    </tr>\n",
       "  </tbody>\n",
       "</table>\n",
       "</div>"
      ],
      "text/plain": [
       "   fornecedor_punido  qtd_media  Socio Laranja  \\\n",
       "0              False       96.0            0.0   \n",
       "1              False       34.0            0.0   \n",
       "2              False       28.0            0.0   \n",
       "3              False       23.0            0.0   \n",
       "4              False       25.0            0.0   \n",
       "\n",
       "   Valor Total Homologado em 2017  Micro Empresa  Não Informado  \\\n",
       "0                        100000.0              0              0   \n",
       "1                        100000.0              0              0   \n",
       "2                        100000.0              0              0   \n",
       "3                        100000.0              0              0   \n",
       "4                         76100.0              0              1   \n",
       "\n",
       "   Pequena Empresa  qtd_subclasses_cnae  Qtd dias inferior a 30  \\\n",
       "0                0                  5.0                     0.0   \n",
       "1                0                  5.0                     0.0   \n",
       "2                0                  5.0                     0.0   \n",
       "3                0                  5.0                     0.0   \n",
       "4                0                  5.0                     0.0   \n",
       "\n",
       "   qtd_fornecedores  socio_com_ceis  VALIDO  prob_loja  \n",
       "0               1.0             0.0     2.0   0.999985  \n",
       "1               1.0             0.0     7.0   0.999988  \n",
       "2               1.0             0.0     1.0   0.998830  \n",
       "3               1.0             0.0     1.0   0.773772  \n",
       "4               1.0             0.0     3.0   0.999959  "
      ]
     },
     "execution_count": 2,
     "metadata": {},
     "output_type": "execute_result"
    }
   ],
   "source": [
    "fornecedores_data.head()"
   ]
  },
  {
   "cell_type": "markdown",
   "metadata": {
    "collapsed": true
   },
   "source": [
    "Nossa variável alvo será \"fornecedor_punido\". Todas as outras serão variáveis dependentes."
   ]
  },
  {
   "cell_type": "code",
   "execution_count": 3,
   "metadata": {
    "collapsed": true
   },
   "outputs": [],
   "source": [
    "y = fornecedores_data['fornecedor_punido']"
   ]
  },
  {
   "cell_type": "code",
   "execution_count": 4,
   "metadata": {
    "collapsed": true
   },
   "outputs": [],
   "source": [
    "X = fornecedores_data.iloc[:,1:]"
   ]
  },
  {
   "cell_type": "code",
   "execution_count": 5,
   "metadata": {
    "collapsed": false
   },
   "outputs": [
    {
     "data": {
      "text/html": [
       "<div>\n",
       "<style scoped>\n",
       "    .dataframe tbody tr th:only-of-type {\n",
       "        vertical-align: middle;\n",
       "    }\n",
       "\n",
       "    .dataframe tbody tr th {\n",
       "        vertical-align: top;\n",
       "    }\n",
       "\n",
       "    .dataframe thead th {\n",
       "        text-align: right;\n",
       "    }\n",
       "</style>\n",
       "<table border=\"1\" class=\"dataframe\">\n",
       "  <thead>\n",
       "    <tr style=\"text-align: right;\">\n",
       "      <th></th>\n",
       "      <th>qtd_media</th>\n",
       "      <th>Socio Laranja</th>\n",
       "      <th>Valor Total Homologado em 2017</th>\n",
       "      <th>Micro Empresa</th>\n",
       "      <th>Não Informado</th>\n",
       "      <th>Pequena Empresa</th>\n",
       "      <th>qtd_subclasses_cnae</th>\n",
       "      <th>Qtd dias inferior a 30</th>\n",
       "      <th>qtd_fornecedores</th>\n",
       "      <th>socio_com_ceis</th>\n",
       "      <th>VALIDO</th>\n",
       "      <th>prob_loja</th>\n",
       "    </tr>\n",
       "  </thead>\n",
       "  <tbody>\n",
       "    <tr>\n",
       "      <th>0</th>\n",
       "      <td>96.0</td>\n",
       "      <td>0.0</td>\n",
       "      <td>100000.0</td>\n",
       "      <td>0</td>\n",
       "      <td>0</td>\n",
       "      <td>0</td>\n",
       "      <td>5.0</td>\n",
       "      <td>0.0</td>\n",
       "      <td>1.0</td>\n",
       "      <td>0.0</td>\n",
       "      <td>2.0</td>\n",
       "      <td>0.999985</td>\n",
       "    </tr>\n",
       "    <tr>\n",
       "      <th>1</th>\n",
       "      <td>34.0</td>\n",
       "      <td>0.0</td>\n",
       "      <td>100000.0</td>\n",
       "      <td>0</td>\n",
       "      <td>0</td>\n",
       "      <td>0</td>\n",
       "      <td>5.0</td>\n",
       "      <td>0.0</td>\n",
       "      <td>1.0</td>\n",
       "      <td>0.0</td>\n",
       "      <td>7.0</td>\n",
       "      <td>0.999988</td>\n",
       "    </tr>\n",
       "    <tr>\n",
       "      <th>2</th>\n",
       "      <td>28.0</td>\n",
       "      <td>0.0</td>\n",
       "      <td>100000.0</td>\n",
       "      <td>0</td>\n",
       "      <td>0</td>\n",
       "      <td>0</td>\n",
       "      <td>5.0</td>\n",
       "      <td>0.0</td>\n",
       "      <td>1.0</td>\n",
       "      <td>0.0</td>\n",
       "      <td>1.0</td>\n",
       "      <td>0.998830</td>\n",
       "    </tr>\n",
       "    <tr>\n",
       "      <th>3</th>\n",
       "      <td>23.0</td>\n",
       "      <td>0.0</td>\n",
       "      <td>100000.0</td>\n",
       "      <td>0</td>\n",
       "      <td>0</td>\n",
       "      <td>0</td>\n",
       "      <td>5.0</td>\n",
       "      <td>0.0</td>\n",
       "      <td>1.0</td>\n",
       "      <td>0.0</td>\n",
       "      <td>1.0</td>\n",
       "      <td>0.773772</td>\n",
       "    </tr>\n",
       "    <tr>\n",
       "      <th>4</th>\n",
       "      <td>25.0</td>\n",
       "      <td>0.0</td>\n",
       "      <td>76100.0</td>\n",
       "      <td>0</td>\n",
       "      <td>1</td>\n",
       "      <td>0</td>\n",
       "      <td>5.0</td>\n",
       "      <td>0.0</td>\n",
       "      <td>1.0</td>\n",
       "      <td>0.0</td>\n",
       "      <td>3.0</td>\n",
       "      <td>0.999959</td>\n",
       "    </tr>\n",
       "  </tbody>\n",
       "</table>\n",
       "</div>"
      ],
      "text/plain": [
       "   qtd_media  Socio Laranja  Valor Total Homologado em 2017  Micro Empresa  \\\n",
       "0       96.0            0.0                        100000.0              0   \n",
       "1       34.0            0.0                        100000.0              0   \n",
       "2       28.0            0.0                        100000.0              0   \n",
       "3       23.0            0.0                        100000.0              0   \n",
       "4       25.0            0.0                         76100.0              0   \n",
       "\n",
       "   Não Informado  Pequena Empresa  qtd_subclasses_cnae  \\\n",
       "0              0                0                  5.0   \n",
       "1              0                0                  5.0   \n",
       "2              0                0                  5.0   \n",
       "3              0                0                  5.0   \n",
       "4              1                0                  5.0   \n",
       "\n",
       "   Qtd dias inferior a 30  qtd_fornecedores  socio_com_ceis  VALIDO  prob_loja  \n",
       "0                     0.0               1.0             0.0     2.0   0.999985  \n",
       "1                     0.0               1.0             0.0     7.0   0.999988  \n",
       "2                     0.0               1.0             0.0     1.0   0.998830  \n",
       "3                     0.0               1.0             0.0     1.0   0.773772  \n",
       "4                     0.0               1.0             0.0     3.0   0.999959  "
      ]
     },
     "execution_count": 5,
     "metadata": {},
     "output_type": "execute_result"
    }
   ],
   "source": [
    "X.head()"
   ]
  },
  {
   "cell_type": "markdown",
   "metadata": {},
   "source": [
    "Veja só como estas colunas estão desbalanceadas. A coluna \"Valor Total Homologado em 2017\" tem valores muito mais altos do que as outras colunas! Isto pode (e está!) enviesando o modelo para levar em conta apenas essa coluna. Precisamos corrigir isso! A solução você já implementou na parte de Regressão Linear, ou seja, normalizar os dados!"
   ]
  },
  {
   "cell_type": "markdown",
   "metadata": {},
   "source": [
    "## Exercício 1 - Normalize as colunas qtd_media e Valor Total Homologado em 2017, que estão com valores bem acima dos demais. Faça com que os valores dessas colunas tenham média 0 e desvio padrão 1. "
   ]
  },
  {
   "cell_type": "markdown",
   "metadata": {},
   "source": [
    "## Solução 1"
   ]
  },
  {
   "cell_type": "code",
   "execution_count": null,
   "metadata": {
    "collapsed": true
   },
   "outputs": [],
   "source": []
  },
  {
   "cell_type": "markdown",
   "metadata": {},
   "source": [
    "## Exercício 2 - Separe os dataframes X e y nos conjuntos de treinamento e teste (X_train, X_test, y_train, y_test)"
   ]
  },
  {
   "cell_type": "markdown",
   "metadata": {},
   "source": [
    "## Solução 2"
   ]
  },
  {
   "cell_type": "code",
   "execution_count": 36,
   "metadata": {
    "collapsed": true
   },
   "outputs": [],
   "source": []
  },
  {
   "cell_type": "markdown",
   "metadata": {},
   "source": [
    "## Exercício 3 - Defina e ajuste (treine com fit()) o Modelo de Regressão Logística"
   ]
  },
  {
   "cell_type": "markdown",
   "metadata": {},
   "source": [
    "## Solução 3"
   ]
  },
  {
   "cell_type": "code",
   "execution_count": null,
   "metadata": {
    "collapsed": true
   },
   "outputs": [],
   "source": []
  },
  {
   "cell_type": "markdown",
   "metadata": {},
   "source": [
    "## Exercício 4 - Avalie o modelo com as métricas de acurácia, a matriz de confusão e as métricas de precisão, abrangência (recall) e F1"
   ]
  },
  {
   "cell_type": "markdown",
   "metadata": {},
   "source": [
    "## Solução 4"
   ]
  },
  {
   "cell_type": "code",
   "execution_count": null,
   "metadata": {
    "collapsed": true
   },
   "outputs": [],
   "source": []
  },
  {
   "cell_type": "markdown",
   "metadata": {},
   "source": [
    "Um problema desse modelo é que ele tem a abrangência (recall) baixa para fornecedores punidos. Isso porque os dados estão desbalanceados a favor de fornecedores não punidos. Ou seja, o modelo deixa passar muitos fornecedores punidos por ter aprendido com poucos dados desta categoria. Podemos ver isso no código abaixo."
   ]
  },
  {
   "cell_type": "code",
   "execution_count": 42,
   "metadata": {
    "collapsed": false
   },
   "outputs": [
    {
     "name": "stdout",
     "output_type": "stream",
     "text": [
      "14285\n",
      "5940\n"
     ]
    }
   ],
   "source": [
    "train_df = pd.concat([X_train, y_train], axis=1)\n",
    "print(len(train_df[train_df['fornecedor_punido'] == False]))\n",
    "print(len(train_df[train_df['fornecedor_punido'] == True]))"
   ]
  },
  {
   "cell_type": "markdown",
   "metadata": {},
   "source": [
    "Temos 5940 dados de fornecedores punidos contra 14285 dados de fornecedores não punidos. Por isso o modelo não aprende direito o padrão dos punidos. Existem técnicas de reamostragem que ajudam a balancear este conjunto de dados. Não vamos fazer um exercício específico disso aqui, mas recomendamos conhecer exemplos da biblioteca imbalanced-learn (https://imbalanced-learn.readthedocs.io/en/stable/introduction.html)."
   ]
  },
  {
   "cell_type": "code",
   "execution_count": null,
   "metadata": {
    "collapsed": true
   },
   "outputs": [],
   "source": [
    "from imblearn.over_sampling import RandomOverSampler\n",
    "ros = RandomOverSampler(random_state=0)\n",
    "X_train_resampled, y_train_resampled = ros.fit_resample(X_train, y_train)"
   ]
  },
  {
   "cell_type": "code",
   "execution_count": null,
   "metadata": {
    "collapsed": true
   },
   "outputs": [],
   "source": [
    "X_train_resampled = pd.DataFrame(X_train_resampled, columns=X_train.columns)"
   ]
  },
  {
   "cell_type": "code",
   "execution_count": null,
   "metadata": {
    "collapsed": true
   },
   "outputs": [],
   "source": [
    "y_train_resampled = pd.Series(y_train_resampled, name=y_train.name)"
   ]
  },
  {
   "cell_type": "code",
   "execution_count": null,
   "metadata": {
    "collapsed": true
   },
   "outputs": [],
   "source": [
    "train_df = pd.concat([X_train_resampled, y_train_resampled], axis=1)\n",
    "print(len(train_df[train_df['fornecedor_punido'] == False]))\n",
    "print(len(train_df[train_df['fornecedor_punido'] == True]))"
   ]
  },
  {
   "cell_type": "markdown",
   "metadata": {},
   "source": [
    "Retreinando o modelo com os exemplos balanceados, poderemos ver uma melhora significativa na métrica de Recall para fornecedores punidos(ao custo de uma certa piora na precisão da detecção destes fornecedores)"
   ]
  },
  {
   "cell_type": "code",
   "execution_count": null,
   "metadata": {
    "collapsed": true
   },
   "outputs": [],
   "source": [
    "from sklearn.linear_model import LogisticRegression\n",
    "\n",
    "# Definir o modelo (Regressão Logística)\n",
    "fornecedores_model = LogisticRegression()\n",
    "\n",
    "# Ajustar o modelo (treinamento)\n",
    "fornecedores_model.fit(X_train_resampled, y_train_resampled)"
   ]
  },
  {
   "cell_type": "code",
   "execution_count": null,
   "metadata": {
    "collapsed": true
   },
   "outputs": [],
   "source": [
    "from sklearn.metrics import classification_report, confusion_matrix\n",
    "\n",
    "# Resultado no conjunto de testes\n",
    "y_pred = fornecedores_model.predict(X_test)\n",
    "\n",
    "print(\"A matriz de confusão é:\\n\", confusion_matrix(y_test, y_pred),\"\\n\")\n",
    "print(\"Métricas de precisão, abragência e f1:\\n\", classification_report(y_test, y_pred))"
   ]
  }
 ],
 "metadata": {
  "kernelspec": {
   "display_name": "Python 3",
   "language": "python",
   "name": "python3"
  },
  "language_info": {
   "codemirror_mode": {
    "name": "ipython",
    "version": 3
   },
   "file_extension": ".py",
   "mimetype": "text/x-python",
   "name": "python",
   "nbconvert_exporter": "python",
   "pygments_lexer": "ipython3",
   "version": "3.6.0"
  }
 },
 "nbformat": 4,
 "nbformat_minor": 2
}
